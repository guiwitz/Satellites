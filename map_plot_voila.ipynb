{
 "cells": [
  {
   "cell_type": "markdown",
   "metadata": {},
   "source": [
    "# Satellite visibility map\n",
    "### Guillaume Witz, Science IT Support, Bern University"
   ]
  },
  {
   "cell_type": "code",
   "execution_count": 1,
   "metadata": {},
   "outputs": [],
   "source": [
    "#import packages\n",
    "\n",
    "import numpy as np\n",
    "import pandas as pd\n",
    "import matplotlib.pyplot as plt\n",
    "from datetime import date, timedelta\n",
    "\n",
    "from ipywidgets import interact\n",
    "import ipywidgets as ipw\n",
    "\n",
    "import aiub"
   ]
  },
  {
   "cell_type": "code",
   "execution_count": 13,
   "metadata": {},
   "outputs": [],
   "source": [
    "#user paramters\n",
    "\n",
    "#file location\n",
    "address_sat = 'http://ftp.aiub.unibe.ch/CODE_MGEX/CODE/'\n",
    "#earth radius\n",
    "mean_rad = 6369915.831429518"
   ]
  },
  {
   "cell_type": "code",
   "execution_count": 4,
   "metadata": {},
   "outputs": [],
   "source": [
    "#Create a grid of points and calculate their local ellipsoidal coordinates.\n",
    "coord_table, lons, lats = aiub.coord_grid(nlats=20, nlons=20)"
   ]
  },
  {
   "cell_type": "code",
   "execution_count": 5,
   "metadata": {
    "hide_input": false
   },
   "outputs": [
    {
     "data": {
      "application/vnd.jupyter.widget-view+json": {
       "model_id": "d0cdd6243411461ab62dd8ef1e08b52d",
       "version_major": 2,
       "version_minor": 0
      },
      "text/plain": [
       "HBox(children=(DatePicker(value=datetime.date(2018, 9, 1), description='Pick a start date', style=DescriptionS…"
      ]
     },
     "metadata": {},
     "output_type": "display_data"
    }
   ],
   "source": [
    "#Pick dates\n",
    "date_min, date_max = aiub.date_picker()"
   ]
  },
  {
   "cell_type": "code",
   "execution_count": 6,
   "metadata": {},
   "outputs": [],
   "source": [
    "#create a list of dates between start and end date \n",
    "date_list = [date_min.value + timedelta(days=x) for x in range((date_max.value-date_min.value).days+1)]\n",
    "#calculate gps weeks times (year, week, day)\n",
    "gps_weeks = [aiub.date_to_gpsweeks(x) for x in date_list]\n",
    "\n",
    "#load satellite data\n",
    "temp_pd = pd.concat([aiub.import_RM_file(address_sat, g) for g in gps_weeks]).reset_index()\n",
    "\n",
    "sat_dict = {'G':'GPS','R':'GLONASS','E':'Galileo','C':'BeiDou','J':'QZSS'}\n",
    "temp_pd['satellite'] = temp_pd.satellite.apply(lambda x : sat_dict[x])\n",
    "all_dates = temp_pd.datetime.unique()"
   ]
  },
  {
   "cell_type": "code",
   "execution_count": 7,
   "metadata": {},
   "outputs": [],
   "source": [
    "#Calculate elevation and azimuth for all pairs of coordinates and satellites.\n",
    "el_az = aiub.elevation_azimuth_grid(coord_table, temp_pd)"
   ]
  },
  {
   "cell_type": "code",
   "execution_count": 8,
   "metadata": {},
   "outputs": [],
   "source": [
    "#Group observations by time\n",
    "grouped = el_az[(el_az.e>np.deg2rad(5))].groupby('datetime')"
   ]
  },
  {
   "cell_type": "code",
   "execution_count": 9,
   "metadata": {},
   "outputs": [],
   "source": [
    "%matplotlib inline"
   ]
  },
  {
   "cell_type": "code",
   "execution_count": null,
   "metadata": {},
   "outputs": [],
   "source": []
  },
  {
   "cell_type": "code",
   "execution_count": 11,
   "metadata": {},
   "outputs": [
    {
     "data": {
      "application/vnd.jupyter.widget-view+json": {
       "model_id": "7a53d73003ba4c0598bd65922a337421",
       "version_major": 2,
       "version_minor": 0
      },
      "text/plain": [
       "interactive(children=(IntSlider(value=0, continuous_update=False, description='t', max=867), Dropdown(descript…"
      ]
     },
     "metadata": {},
     "output_type": "display_data"
    }
   ],
   "source": [
    "interact(aiub.plot_map,t = ipw.IntSlider(value = 0, min = 0, max = len(el_az.datetime.unique()),step =1, continuous_update = False), \n",
    "         sat = list(temp_pd.satellite.unique()),temp_pd = ipw.fixed(temp_pd), \n",
    "         all_dates = ipw.fixed(all_dates), coord_table = ipw.fixed(coord_table),\n",
    "        lons = ipw.fixed(lons), lats = ipw.fixed(lats));\n"
   ]
  },
  {
   "cell_type": "code",
   "execution_count": null,
   "metadata": {},
   "outputs": [],
   "source": []
  }
 ],
 "metadata": {
  "kernelspec": {
   "display_name": "Python 3",
   "language": "python",
   "name": "python3"
  },
  "language_info": {
   "codemirror_mode": {
    "name": "ipython",
    "version": 3
   },
   "file_extension": ".py",
   "mimetype": "text/x-python",
   "name": "python",
   "nbconvert_exporter": "python",
   "pygments_lexer": "ipython3",
   "version": "3.7.3"
  },
  "toc": {
   "base_numbering": 1,
   "nav_menu": {},
   "number_sections": false,
   "sideBar": true,
   "skip_h1_title": false,
   "title_cell": "Table of Contents",
   "title_sidebar": "Contents",
   "toc_cell": false,
   "toc_position": {},
   "toc_section_display": true,
   "toc_window_display": true
  }
 },
 "nbformat": 4,
 "nbformat_minor": 2
}
